{
 "cells": [
  {
   "cell_type": "code",
   "execution_count": 1,
   "id": "operating-secretary",
   "metadata": {},
   "outputs": [],
   "source": [
    "%config Completer.use_jedi = False\n",
    "import numpy as np\n",
    "import pandas as pd\n",
    "from sklearn.linear_model import LogisticRegression\n",
    "from glob import glob\n",
    "import os\n",
    "\n",
    "from sklearn.preprocessing import StandardScaler\n",
    "\n"
   ]
  },
  {
   "cell_type": "code",
   "execution_count": 2,
   "id": "supposed-scottish",
   "metadata": {},
   "outputs": [],
   "source": [
    "def prepare_data_train(fname):\n",
    "    \"\"\" read and prepare training data \"\"\"\n",
    "    # Read data\n",
    "    data = pd.read_csv(fname)\n",
    "    # events file\n",
    "    events_fname = fname.replace('_data','_events')\n",
    "    # read event file\n",
    "    labels= pd.read_csv(events_fname)\n",
    "    clean=data.drop(['id' ], axis=1)#remove id\n",
    "    labels=labels.drop(['id' ], axis=1)#remove id\n",
    "    return  clean,labels"
   ]
  },
  {
   "cell_type": "code",
   "execution_count": 3,
   "id": "massive-footwear",
   "metadata": {},
   "outputs": [],
   "source": [
    "def prepare_data_test(fname):\n",
    "    \"\"\" read and prepare test data \"\"\"\n",
    "    # Read data\n",
    "    data = pd.read_csv(fname)\n",
    "    return data\n",
    "\n",
    "scaler= StandardScaler()\n",
    "def data_preprocess_train(X):\n",
    "    X_prep=scaler.fit_transform(X)\n",
    "    #do here your preprocessing\n",
    "    return X_prep\n",
    "def data_preprocess_test(X):\n",
    "    X_prep=scaler.transform(X)\n",
    "    #do here your preprocessing\n",
    "    return X_prep\n"
   ]
  },
  {
   "cell_type": "code",
   "execution_count": 4,
   "id": "patient-maple",
   "metadata": {},
   "outputs": [],
   "source": [
    "subsample =100"
   ]
  },
  {
   "cell_type": "code",
   "execution_count": 5,
   "id": "oriental-administrator",
   "metadata": {},
   "outputs": [],
   "source": [
    "cols = ['HandStart','FirstDigitTouch',\n",
    "        'BothStartLoadPhase','LiftOff',\n",
    "        'Replace','BothReleased']"
   ]
  },
  {
   "cell_type": "code",
   "execution_count": 6,
   "id": "fiscal-primary",
   "metadata": {},
   "outputs": [],
   "source": [
    "subjects = range(1,13)\n",
    "ids_tot = []\n",
    "pred_tot = []\n",
    "nnpred_tot = []"
   ]
  },
  {
   "cell_type": "code",
   "execution_count": 7,
   "id": "identified-essay",
   "metadata": {},
   "outputs": [
    {
     "name": "stdout",
     "output_type": "stream",
     "text": [
      "['../raw_date/train/subj1_series6_data.csv', '../raw_date/train/subj1_series7_data.csv', '../raw_date/train/subj1_series1_data.csv', '../raw_date/train/subj1_series5_data.csv', '../raw_date/train/subj1_series4_data.csv', '../raw_date/train/subj1_series2_data.csv', '../raw_date/train/subj1_series3_data.csv', '../raw_date/train/subj1_series8_data.csv']\n",
      "['../raw_date/test/subj1_series10_data.csv', '../raw_date/test/subj1_series9_data.csv']\n",
      "['../raw_date/train/subj2_series8_data.csv', '../raw_date/train/subj2_series3_data.csv', '../raw_date/train/subj2_series2_data.csv', '../raw_date/train/subj2_series4_data.csv', '../raw_date/train/subj2_series5_data.csv', '../raw_date/train/subj2_series1_data.csv', '../raw_date/train/subj2_series7_data.csv', '../raw_date/train/subj2_series6_data.csv']\n",
      "['../raw_date/test/subj2_series9_data.csv', '../raw_date/test/subj2_series10_data.csv']\n",
      "['../raw_date/train/subj3_series5_data.csv', '../raw_date/train/subj3_series4_data.csv', '../raw_date/train/subj3_series8_data.csv', '../raw_date/train/subj3_series2_data.csv', '../raw_date/train/subj3_series3_data.csv', '../raw_date/train/subj3_series6_data.csv', '../raw_date/train/subj3_series7_data.csv', '../raw_date/train/subj3_series1_data.csv']\n",
      "['../raw_date/test/subj3_series9_data.csv', '../raw_date/test/subj3_series10_data.csv']\n",
      "['../raw_date/train/subj4_series1_data.csv', '../raw_date/train/subj4_series7_data.csv', '../raw_date/train/subj4_series6_data.csv', '../raw_date/train/subj4_series8_data.csv', '../raw_date/train/subj4_series3_data.csv', '../raw_date/train/subj4_series2_data.csv', '../raw_date/train/subj4_series4_data.csv', '../raw_date/train/subj4_series5_data.csv']\n",
      "['../raw_date/test/subj4_series9_data.csv', '../raw_date/test/subj4_series10_data.csv']\n",
      "['../raw_date/train/subj5_series6_data.csv', '../raw_date/train/subj5_series7_data.csv', '../raw_date/train/subj5_series1_data.csv', '../raw_date/train/subj5_series5_data.csv', '../raw_date/train/subj5_series4_data.csv', '../raw_date/train/subj5_series8_data.csv', '../raw_date/train/subj5_series2_data.csv', '../raw_date/train/subj5_series3_data.csv']\n",
      "['../raw_date/test/subj5_series10_data.csv', '../raw_date/test/subj5_series9_data.csv']\n",
      "['../raw_date/train/subj6_series3_data.csv', '../raw_date/train/subj6_series2_data.csv', '../raw_date/train/subj6_series8_data.csv', '../raw_date/train/subj6_series4_data.csv', '../raw_date/train/subj6_series5_data.csv', '../raw_date/train/subj6_series1_data.csv', '../raw_date/train/subj6_series7_data.csv', '../raw_date/train/subj6_series6_data.csv']\n",
      "['../raw_date/test/subj6_series9_data.csv', '../raw_date/test/subj6_series10_data.csv']\n",
      "['../raw_date/train/subj7_series5_data.csv', '../raw_date/train/subj7_series4_data.csv', '../raw_date/train/subj7_series2_data.csv', '../raw_date/train/subj7_series3_data.csv', '../raw_date/train/subj7_series8_data.csv', '../raw_date/train/subj7_series6_data.csv', '../raw_date/train/subj7_series7_data.csv', '../raw_date/train/subj7_series1_data.csv']\n",
      "['../raw_date/test/subj7_series9_data.csv', '../raw_date/test/subj7_series10_data.csv']\n",
      "['../raw_date/train/subj8_series4_data.csv', '../raw_date/train/subj8_series5_data.csv', '../raw_date/train/subj8_series3_data.csv', '../raw_date/train/subj8_series2_data.csv', '../raw_date/train/subj8_series8_data.csv', '../raw_date/train/subj8_series7_data.csv', '../raw_date/train/subj8_series6_data.csv', '../raw_date/train/subj8_series1_data.csv']\n",
      "['../raw_date/test/subj8_series10_data.csv', '../raw_date/test/subj8_series9_data.csv']\n",
      "['../raw_date/train/subj9_series2_data.csv', '../raw_date/train/subj9_series3_data.csv', '../raw_date/train/subj9_series8_data.csv', '../raw_date/train/subj9_series5_data.csv', '../raw_date/train/subj9_series4_data.csv', '../raw_date/train/subj9_series1_data.csv', '../raw_date/train/subj9_series6_data.csv', '../raw_date/train/subj9_series7_data.csv']\n",
      "['../raw_date/test/subj9_series9_data.csv', '../raw_date/test/subj9_series10_data.csv']\n",
      "['../raw_date/train/subj10_series8_data.csv', '../raw_date/train/subj10_series2_data.csv', '../raw_date/train/subj10_series3_data.csv', '../raw_date/train/subj10_series5_data.csv', '../raw_date/train/subj10_series4_data.csv', '../raw_date/train/subj10_series1_data.csv', '../raw_date/train/subj10_series6_data.csv', '../raw_date/train/subj10_series7_data.csv']\n",
      "['../raw_date/test/subj10_series9_data.csv', '../raw_date/test/subj10_series10_data.csv']\n",
      "['../raw_date/train/subj11_series4_data.csv', '../raw_date/train/subj11_series5_data.csv', '../raw_date/train/subj11_series8_data.csv', '../raw_date/train/subj11_series3_data.csv', '../raw_date/train/subj11_series2_data.csv', '../raw_date/train/subj11_series7_data.csv', '../raw_date/train/subj11_series6_data.csv', '../raw_date/train/subj11_series1_data.csv']\n",
      "['../raw_date/test/subj11_series9_data.csv', '../raw_date/test/subj11_series10_data.csv']\n",
      "['../raw_date/train/subj12_series1_data.csv', '../raw_date/train/subj12_series6_data.csv', '../raw_date/train/subj12_series7_data.csv', '../raw_date/train/subj12_series2_data.csv', '../raw_date/train/subj12_series3_data.csv', '../raw_date/train/subj12_series8_data.csv', '../raw_date/train/subj12_series5_data.csv', '../raw_date/train/subj12_series4_data.csv']\n",
      "['../raw_date/test/subj12_series9_data.csv', '../raw_date/test/subj12_series10_data.csv']\n"
     ]
    }
   ],
   "source": [
    "for subject in subjects:\n",
    "    y_raw= []\n",
    "    raw = []\n",
    "    ################ READ DATA ################################################\n",
    "    fnames =  glob('../raw_date/train/subj%d_series*_data.csv' % (subject))\n",
    "    print(fnames)\n",
    "    for fname in fnames:\n",
    "        data, labels=prepare_data_train(fname)\n",
    "        raw.append(data)\n",
    "        y_raw.append(labels)\n",
    "\n",
    "    X = pd.concat(raw)\n",
    "    y = pd.concat(y_raw)\n",
    "    #transform in numpy array\n",
    "    #transform train data in numpy array\n",
    "    X_train =np.asarray(X.astype(float))\n",
    "    y = np.asarray(y.astype(float))\n",
    "\n",
    "\n",
    "    ################ Read test data #####################################\n",
    "    #\n",
    "    fnames =  glob('../raw_date/test/subj%d_series*_data.csv' % (subject))\n",
    "    print(fnames)\n",
    "    test = []\n",
    "    idx=[]\n",
    "    for fname in fnames:\n",
    "        data=prepare_data_test(fname)\n",
    "        test.append(data)\n",
    "        idx.append(np.array(data['id']))\n",
    "    X_test= pd.concat(test)\n",
    "    ids=np.concatenate(idx)\n",
    "    ids_tot.append(ids)\n",
    "    X_test=X_test.drop(['id' ], axis=1)#remove id\n",
    "    #transform test data in numpy array\n",
    "    X_test =np.asarray(X_test.astype(float))\n"
   ]
  },
  {
   "cell_type": "code",
   "execution_count": 10,
   "id": "mighty-debate",
   "metadata": {},
   "outputs": [
    {
     "data": {
      "text/plain": [
       "1607923"
      ]
     },
     "execution_count": 10,
     "metadata": {},
     "output_type": "execute_result"
    }
   ],
   "source": [
    "len(X_train)"
   ]
  },
  {
   "cell_type": "code",
   "execution_count": 16,
   "id": "buried-porcelain",
   "metadata": {},
   "outputs": [
    {
     "data": {
      "text/plain": [
       "(1607923, 32)"
      ]
     },
     "execution_count": 16,
     "metadata": {},
     "output_type": "execute_result"
    }
   ],
   "source": [
    "X_train.shape"
   ]
  },
  {
   "cell_type": "code",
   "execution_count": 12,
   "id": "brutal-oakland",
   "metadata": {},
   "outputs": [
    {
     "data": {
      "text/plain": [
       "(1607923, 6)"
      ]
     },
     "execution_count": 12,
     "metadata": {},
     "output_type": "execute_result"
    }
   ],
   "source": [
    "y.shape"
   ]
  },
  {
   "cell_type": "code",
   "execution_count": 13,
   "id": "metric-anchor",
   "metadata": {},
   "outputs": [
    {
     "data": {
      "text/plain": [
       "(287869, 32)"
      ]
     },
     "execution_count": 13,
     "metadata": {},
     "output_type": "execute_result"
    }
   ],
   "source": [
    "X_test.shape"
   ]
  },
  {
   "cell_type": "code",
   "execution_count": null,
   "id": "czech-operations",
   "metadata": {},
   "outputs": [],
   "source": []
  }
 ],
 "metadata": {
  "kernelspec": {
   "display_name": "Python 3",
   "language": "python",
   "name": "python3"
  },
  "language_info": {
   "codemirror_mode": {
    "name": "ipython",
    "version": 3
   },
   "file_extension": ".py",
   "mimetype": "text/x-python",
   "name": "python",
   "nbconvert_exporter": "python",
   "pygments_lexer": "ipython3",
   "version": "3.8.6"
  }
 },
 "nbformat": 4,
 "nbformat_minor": 5
}
